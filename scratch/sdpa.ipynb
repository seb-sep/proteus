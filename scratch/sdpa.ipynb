{
 "cells": [
  {
   "cell_type": "code",
   "execution_count": 50,
   "metadata": {},
   "outputs": [],
   "source": [
    "import torch\n",
    "import mlx.core as mx"
   ]
  },
  {
   "cell_type": "code",
   "execution_count": 54,
   "metadata": {},
   "outputs": [
    {
     "name": "stdout",
     "output_type": "stream",
     "text": [
      "coercing torch to mlx\n",
      "coercing torch to mlx\n",
      "coercing torch to mlx\n"
     ]
    },
    {
     "data": {
      "text/plain": [
       "(tensor([[[[-1.528901, -0.738194],\n",
       "           [-0.186240,  1.351407]]]]),\n",
       " tensor([[[[1.096969, 1.236760],\n",
       "           [0.830869, 1.700877]]]]),\n",
       " tensor([[[[-1.562751, -1.337172],\n",
       "           [-0.880467,  1.043339]]]]))"
      ]
     },
     "execution_count": 54,
     "metadata": {},
     "output_type": "execute_result"
    }
   ],
   "source": [
    "from proteus.utils import coerce_torch_to_mx\n",
    "\n",
    "l = 2\n",
    "tq = torch.randn((1, 1, l, l))\n",
    "tk, tv = torch.randn_like(tq), torch.randn_like(tq)\n",
    "\n",
    "mq, mk, mv = coerce_torch_to_mx(tq), coerce_torch_to_mx(tk), coerce_torch_to_mx(tv)\n",
    "\n",
    "tq, tk, tv"
   ]
  },
  {
   "cell_type": "code",
   "execution_count": 55,
   "metadata": {},
   "outputs": [
    {
     "name": "stdout",
     "output_type": "stream",
     "text": [
      "coercing torch to mlx\n"
     ]
    },
    {
     "data": {
      "text/plain": [
       "(tensor([[1., 0.],\n",
       "         [1., 1.]]),\n",
       " array([[1, 0],\n",
       "        [1, 1]], dtype=float32))"
      ]
     },
     "execution_count": 55,
     "metadata": {},
     "output_type": "execute_result"
    }
   ],
   "source": [
    "torch_mask = torch.ones((l, l), dtype=torch.float32).tril()\n",
    "# torch_mask = torch.zeros_like(torch_mask, dtype=torch.float32).masked_fill(torch_mask.logical_not(), float('-inf'))\n",
    "\n",
    "mlx_mask = coerce_torch_to_mx(torch_mask)\n",
    "\n",
    "torch_mask, mlx_mask"
   ]
  },
  {
   "cell_type": "code",
   "execution_count": 60,
   "metadata": {},
   "outputs": [
    {
     "data": {
      "text/plain": [
       "((tensor([[[[-1.373101, -0.675474],\n",
       "            [-1.141506,  0.132568]]]]),\n",
       "  tensor([[[-0.505814,  2.998151]]])),\n",
       " array([[[[-1.3731, -0.675474],\n",
       "          [-1.14151, 0.132568]]]], dtype=float32))"
      ]
     },
     "execution_count": 60,
     "metadata": {},
     "output_type": "execute_result"
    }
   ],
   "source": [
    "from math import sqrt\n",
    "torch.set_printoptions(precision=6)\n",
    "\n",
    "scale = sqrt(tq.size(-1))**-1\n",
    "\n",
    "# torch_attn = torch.ops.aten.scaled_dot_product_attention.default\n",
    "torch_attn = torch.ops.aten._scaled_dot_product_flash_attention_for_cpu.default\n",
    "mlx_attn = mx.fast.scaled_dot_product_attention\n",
    "\n",
    "\n",
    "(\n",
    "    torch_attn(tq, tk, tv, attn_mask=torch_mask, scale=scale), \n",
    "    mlx_attn(mq, mk, mv, mask=mlx_mask, scale=scale)\n",
    ")"
   ]
  },
  {
   "cell_type": "markdown",
   "metadata": {},
   "source": [
    "when torch sdpa gets a boolean tensor mask, it fills mask with -inf where the tensor is false and 0 where true, whereas MLX fills with 1 where true and 0 where false, so the solution is convert the boolean tensor manually to the -inf tensor for MLX"
   ]
  },
  {
   "cell_type": "code",
   "execution_count": 49,
   "metadata": {},
   "outputs": [
    {
     "data": {
      "text/plain": [
       "array([[0, -inf, -inf, -inf],\n",
       "       [0, 0, -inf, -inf],\n",
       "       [0, 0, 0, -inf],\n",
       "       [0, 0, 0, 0]], dtype=float32)"
      ]
     },
     "execution_count": 49,
     "metadata": {},
     "output_type": "execute_result"
    }
   ],
   "source": [
    "x = mx.ones((4, 4))\n",
    "mask = mx.tril(mx.ones((4, 4), dtype=mx.bool_))\n",
    "mx.where(mx.logical_not(mask), -float('inf'), 0.)\n",
    "\n",
    "mx.triu(mx.full((4, 4), -float('inf')), k=1)"
   ]
  },
  {
   "cell_type": "code",
   "execution_count": 53,
   "metadata": {},
   "outputs": [
    {
     "ename": "RuntimeError",
     "evalue": "aten::scaled_dot_product_attention() is missing value for argument 'query'. Declaration: aten::scaled_dot_product_attention(Tensor query, Tensor key, Tensor value, Tensor? attn_mask=None, float dropout_p=0., bool is_causal=False, *, float? scale=None, bool enable_gqa=False) -> Tensor",
     "output_type": "error",
     "traceback": [
      "\u001b[0;31m---------------------------------------------------------------------------\u001b[0m",
      "\u001b[0;31mRuntimeError\u001b[0m                              Traceback (most recent call last)",
      "Cell \u001b[0;32mIn[53], line 1\u001b[0m\n\u001b[0;32m----> 1\u001b[0m \u001b[43mtorch_attn\u001b[49m\u001b[43m(\u001b[49m\u001b[43m)\u001b[49m\n",
      "File \u001b[0;32m~/Code/Python/proteus/venv/lib/python3.9/site-packages/torch/_ops.py:716\u001b[0m, in \u001b[0;36mOpOverload.__call__\u001b[0;34m(self, *args, **kwargs)\u001b[0m\n\u001b[1;32m    715\u001b[0m \u001b[38;5;28;01mdef\u001b[39;00m \u001b[38;5;21m__call__\u001b[39m(\u001b[38;5;28mself\u001b[39m, \u001b[38;5;241m/\u001b[39m, \u001b[38;5;241m*\u001b[39margs, \u001b[38;5;241m*\u001b[39m\u001b[38;5;241m*\u001b[39mkwargs):\n\u001b[0;32m--> 716\u001b[0m     \u001b[38;5;28;01mreturn\u001b[39;00m \u001b[38;5;28;43mself\u001b[39;49m\u001b[38;5;241;43m.\u001b[39;49m\u001b[43m_op\u001b[49m\u001b[43m(\u001b[49m\u001b[38;5;241;43m*\u001b[39;49m\u001b[43margs\u001b[49m\u001b[43m,\u001b[49m\u001b[43m \u001b[49m\u001b[38;5;241;43m*\u001b[39;49m\u001b[38;5;241;43m*\u001b[39;49m\u001b[43mkwargs\u001b[49m\u001b[43m)\u001b[49m\n",
      "\u001b[0;31mRuntimeError\u001b[0m: aten::scaled_dot_product_attention() is missing value for argument 'query'. Declaration: aten::scaled_dot_product_attention(Tensor query, Tensor key, Tensor value, Tensor? attn_mask=None, float dropout_p=0., bool is_causal=False, *, float? scale=None, bool enable_gqa=False) -> Tensor"
     ]
    }
   ],
   "source": [
    "torch_attn()"
   ]
  },
  {
   "cell_type": "code",
   "execution_count": 61,
   "metadata": {},
   "outputs": [
    {
     "ename": "RuntimeError",
     "evalue": "aten::_scaled_dot_product_flash_attention_for_cpu() is missing value for argument 'query'. Declaration: aten::_scaled_dot_product_flash_attention_for_cpu(Tensor query, Tensor key, Tensor value, float dropout_p=0., bool is_causal=False, *, Tensor? attn_mask=None, float? scale=None) -> (Tensor output, Tensor logsumexp)",
     "output_type": "error",
     "traceback": [
      "\u001b[0;31m---------------------------------------------------------------------------\u001b[0m",
      "\u001b[0;31mRuntimeError\u001b[0m                              Traceback (most recent call last)",
      "Cell \u001b[0;32mIn[61], line 1\u001b[0m\n\u001b[0;32m----> 1\u001b[0m \u001b[43mtorch_attn\u001b[49m\u001b[43m(\u001b[49m\u001b[43m)\u001b[49m\n",
      "File \u001b[0;32m~/Code/Python/proteus/venv/lib/python3.9/site-packages/torch/_ops.py:716\u001b[0m, in \u001b[0;36mOpOverload.__call__\u001b[0;34m(self, *args, **kwargs)\u001b[0m\n\u001b[1;32m    715\u001b[0m \u001b[38;5;28;01mdef\u001b[39;00m \u001b[38;5;21m__call__\u001b[39m(\u001b[38;5;28mself\u001b[39m, \u001b[38;5;241m/\u001b[39m, \u001b[38;5;241m*\u001b[39margs, \u001b[38;5;241m*\u001b[39m\u001b[38;5;241m*\u001b[39mkwargs):\n\u001b[0;32m--> 716\u001b[0m     \u001b[38;5;28;01mreturn\u001b[39;00m \u001b[38;5;28;43mself\u001b[39;49m\u001b[38;5;241;43m.\u001b[39;49m\u001b[43m_op\u001b[49m\u001b[43m(\u001b[49m\u001b[38;5;241;43m*\u001b[39;49m\u001b[43margs\u001b[49m\u001b[43m,\u001b[49m\u001b[43m \u001b[49m\u001b[38;5;241;43m*\u001b[39;49m\u001b[38;5;241;43m*\u001b[39;49m\u001b[43mkwargs\u001b[49m\u001b[43m)\u001b[49m\n",
      "\u001b[0;31mRuntimeError\u001b[0m: aten::_scaled_dot_product_flash_attention_for_cpu() is missing value for argument 'query'. Declaration: aten::_scaled_dot_product_flash_attention_for_cpu(Tensor query, Tensor key, Tensor value, float dropout_p=0., bool is_causal=False, *, Tensor? attn_mask=None, float? scale=None) -> (Tensor output, Tensor logsumexp)"
     ]
    }
   ],
   "source": [
    "torch_attn()"
   ]
  },
  {
   "cell_type": "code",
   "execution_count": null,
   "metadata": {},
   "outputs": [],
   "source": []
  }
 ],
 "metadata": {
  "kernelspec": {
   "display_name": "venv",
   "language": "python",
   "name": "python3"
  },
  "language_info": {
   "codemirror_mode": {
    "name": "ipython",
    "version": 3
   },
   "file_extension": ".py",
   "mimetype": "text/x-python",
   "name": "python",
   "nbconvert_exporter": "python",
   "pygments_lexer": "ipython3",
   "version": "3.9.18"
  }
 },
 "nbformat": 4,
 "nbformat_minor": 2
}
