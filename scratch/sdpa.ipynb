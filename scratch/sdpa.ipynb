{
 "cells": [
  {
   "cell_type": "code",
   "execution_count": 1,
   "metadata": {},
   "outputs": [],
   "source": [
    "import torch\n",
    "import mlx.core as mx"
   ]
  },
  {
   "cell_type": "code",
   "execution_count": 10,
   "metadata": {},
   "outputs": [
    {
     "name": "stdout",
     "output_type": "stream",
     "text": [
      "coercing torch to mlx\n",
      "coercing torch to mlx\n",
      "coercing torch to mlx\n"
     ]
    },
    {
     "data": {
      "text/plain": [
       "(tensor([[[[ 0.061902, -0.515321],\n",
       "           [ 0.013836,  0.440570]]]]),\n",
       " tensor([[[[ 0.037734, -0.143145],\n",
       "           [ 1.022153, -1.524982]]]]),\n",
       " tensor([[[[ 0.087644,  0.563132],\n",
       "           [-1.652426,  1.438317]]]]))"
      ]
     },
     "execution_count": 10,
     "metadata": {},
     "output_type": "execute_result"
    }
   ],
   "source": [
    "from proteus.utils import coerce_torch_to_mx\n",
    "\n",
    "l = 2\n",
    "tq = torch.randn((1, 1, l, l))\n",
    "tk, tv = torch.randn_like(tq), torch.randn_like(tq)\n",
    "\n",
    "mq, mk, mv = coerce_torch_to_mx(tq), coerce_torch_to_mx(tk), coerce_torch_to_mx(tv)\n",
    "\n",
    "tq, tk, tv"
   ]
  },
  {
   "cell_type": "code",
   "execution_count": 35,
   "metadata": {},
   "outputs": [
    {
     "name": "stdout",
     "output_type": "stream",
     "text": [
      "coercing torch to mlx\n"
     ]
    },
    {
     "data": {
      "text/plain": [
       "(tensor([[1., 0.],\n",
       "         [1., 1.]]),\n",
       " array([[1, 0],\n",
       "        [1, 1]], dtype=float32))"
      ]
     },
     "execution_count": 35,
     "metadata": {},
     "output_type": "execute_result"
    }
   ],
   "source": [
    "torch_mask = torch.ones((l, l), dtype=torch.float32).tril()\n",
    "# torch_mask = torch.zeros_like(torch_mask, dtype=torch.float32).masked_fill(torch_mask.logical_not(), float('-inf'))\n",
    "\n",
    "mlx_mask = coerce_torch_to_mx(torch_mask)\n",
    "\n",
    "torch_mask, mlx_mask"
   ]
  },
  {
   "cell_type": "code",
   "execution_count": 36,
   "metadata": {},
   "outputs": [
    {
     "data": {
      "text/plain": [
       "(tensor([[[[-0.588470,  0.903190],\n",
       "           [-0.601968,  0.909979]]]]),\n",
       " array([[[[-0.58847, 0.90319],\n",
       "          [-0.601968, 0.909979]]]], dtype=float32))"
      ]
     },
     "execution_count": 36,
     "metadata": {},
     "output_type": "execute_result"
    }
   ],
   "source": [
    "from math import sqrt\n",
    "torch.set_printoptions(precision=6)\n",
    "\n",
    "scale = sqrt(tq.size(-1))**-1\n",
    "\n",
    "torch_attn = torch.ops.aten.scaled_dot_product_attention.default\n",
    "mlx_attn = mx.fast.scaled_dot_product_attention\n",
    "\n",
    "\n",
    "(\n",
    "    torch_attn(tq, tk, tv, attn_mask=torch_mask, scale=scale), \n",
    "    mlx_attn(mq, mk, mv, mask=mlx_mask, scale=scale)\n",
    ")"
   ]
  },
  {
   "cell_type": "markdown",
   "metadata": {},
   "source": [
    "when torch sdpa gets a boolean tensor mask, it fills mask with -inf where the tensor is false and 0 where true, whereas MLX fills with 1 where true and 0 where false, so the solution is convert the boolean tensor manually to the -inf tensor for MLX"
   ]
  },
  {
   "cell_type": "code",
   "execution_count": 49,
   "metadata": {},
   "outputs": [
    {
     "data": {
      "text/plain": [
       "array([[0, -inf, -inf, -inf],\n",
       "       [0, 0, -inf, -inf],\n",
       "       [0, 0, 0, -inf],\n",
       "       [0, 0, 0, 0]], dtype=float32)"
      ]
     },
     "execution_count": 49,
     "metadata": {},
     "output_type": "execute_result"
    }
   ],
   "source": [
    "x = mx.ones((4, 4))\n",
    "mask = mx.tril(mx.ones((4, 4), dtype=mx.bool_))\n",
    "mx.where(mx.logical_not(mask), -float('inf'), 0.)\n",
    "\n",
    "mx.triu(mx.full((4, 4), -float('inf')), k=1)"
   ]
  },
  {
   "cell_type": "code",
   "execution_count": null,
   "metadata": {},
   "outputs": [],
   "source": []
  }
 ],
 "metadata": {
  "kernelspec": {
   "display_name": "venv",
   "language": "python",
   "name": "python3"
  },
  "language_info": {
   "codemirror_mode": {
    "name": "ipython",
    "version": 3
   },
   "file_extension": ".py",
   "mimetype": "text/x-python",
   "name": "python",
   "nbconvert_exporter": "python",
   "pygments_lexer": "ipython3",
   "version": "3.9.18"
  }
 },
 "nbformat": 4,
 "nbformat_minor": 2
}
